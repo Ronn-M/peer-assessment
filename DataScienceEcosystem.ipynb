{
  "cells": [
    {
      "cell_type": "markdown",
      "metadata": {
        "id": "jwLvUYYCzSBG"
      },
      "source": [
        "# Data Science Tools and Ecosystem"
      ]
    },
    {
      "cell_type": "markdown",
      "source": [
        "___"
      ],
      "metadata": {
        "id": "6rjerZ2j52KS"
      }
    },
    {
      "cell_type": "markdown",
      "metadata": {
        "id": "yTpuBhxizSBK"
      },
      "source": [
        "In this notebook, Data Science Tools and Ecosystem are summarized."
      ]
    },
    {
      "cell_type": "markdown",
      "source": [
        "**Objectives:**\n",
        "- R\n",
        "- Python\n",
        "- JavaScript\n",
        "- C++"
      ],
      "metadata": {
        "id": "WOXNcFs93jgh"
      }
    },
    {
      "cell_type": "markdown",
      "metadata": {
        "id": "EOjG4HKCzSBK"
      },
      "source": [
        "Some of the popular languages that Data Scientists use are:\n",
        " 1. R\n",
        " 2. Python\n",
        " 3. JavaScript"
      ]
    },
    {
      "cell_type": "markdown",
      "metadata": {
        "id": "t5ZfOmcszSBL"
      },
      "source": [
        "Some of the commonly used libraries used by Data Scientists include:\n",
        "- ggplot\n",
        "- keras\n",
        "- scikit-learn\n"
      ]
    },
    {
      "cell_type": "markdown",
      "metadata": {
        "id": "SRm3xX-qzSBO"
      },
      "source": [
        "|Data Science Tools|\n",
        "|---|\n",
        "| Anaconda Navigator|\n",
        "| Microsoft Visual Studio|\n",
        "| Rstudio|\n"
      ]
    },
    {
      "cell_type": "markdown",
      "metadata": {
        "id": "H1UAPoVbzSBP"
      },
      "source": [
        "### Below are a few examples of evaluating arithmetic expressions in Python"
      ]
    },
    {
      "cell_type": "code",
      "source": [
        "# This a simple arithmetic expression to mutiply then add integers\n",
        "(3*4)+5"
      ],
      "metadata": {
        "colab": {
          "base_uri": "https://localhost:8080/",
          "height": 0
        },
        "id": "1zGbzipP1D1R",
        "outputId": "c3715f7d-f3c4-4b15-a304-e21eb8b0ae22"
      },
      "execution_count": 1,
      "outputs": [
        {
          "output_type": "execute_result",
          "data": {
            "text/plain": [
              "17"
            ]
          },
          "metadata": {},
          "execution_count": 1
        }
      ]
    },
    {
      "cell_type": "code",
      "source": [
        "hours = 200/60\n",
        "print(round(hours, 2), 'hours')"
      ],
      "metadata": {
        "colab": {
          "base_uri": "https://localhost:8080/",
          "height": 0
        },
        "id": "DbwxYljq1Hjz",
        "outputId": "6073b1cf-cc88-4544-a3df-7b2b7c80f433"
      },
      "execution_count": 3,
      "outputs": [
        {
          "output_type": "stream",
          "name": "stdout",
          "text": [
            "3.33 hours\n"
          ]
        }
      ]
    },
    {
      "cell_type": "markdown",
      "source": [
        "## Author\n",
        "\n",
        "Ronald Mashava"
      ],
      "metadata": {
        "id": "6f9s7rgY4skf"
      }
    },
    {
      "cell_type": "code",
      "source": [],
      "metadata": {
        "id": "Fd3utxTv9FQw"
      },
      "execution_count": null,
      "outputs": []
    }
  ],
  "metadata": {
    "language_info": {
      "name": "python"
    },
    "colab": {
      "provenance": []
    },
    "kernelspec": {
      "name": "python3",
      "display_name": "Python 3"
    }
  },
  "nbformat": 4,
  "nbformat_minor": 0
}